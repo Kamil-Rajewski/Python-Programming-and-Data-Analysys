{
 "cells": [
  {
   "cell_type": "markdown",
   "metadata": {
    "colab_type": "text",
    "id": "nh1Nq5Fxpuop"
   },
   "source": [
    "# **LECTURE 1**"
   ]
  },
  {
   "cell_type": "markdown",
   "metadata": {
    "colab_type": "text",
    "id": "G2MeRfR2pyad"
   },
   "source": [
    "What is 7 to the power of 4?\n"
   ]
  },
  {
   "cell_type": "code",
   "execution_count": 1,
   "metadata": {
    "colab": {
     "base_uri": "https://localhost:8080/",
     "height": 34
    },
    "colab_type": "code",
    "id": "4MiotwTxItBe",
    "outputId": "cbfeb479-5fc9-4221-9ab7-c42bd5006341"
   },
   "outputs": [
    {
     "name": "stdout",
     "output_type": "stream",
     "text": [
      "2401\n"
     ]
    }
   ],
   "source": [
    "print(7**4)"
   ]
  },
  {
   "cell_type": "markdown",
   "metadata": {
    "colab_type": "text",
    "id": "h3PytzbAqAH_"
   },
   "source": [
    "Split this string:\n",
    "s = “Hi there Sam!”\n",
    "into a list and replace Sam with dad."
   ]
  },
  {
   "cell_type": "code",
   "execution_count": 2,
   "metadata": {
    "colab": {
     "base_uri": "https://localhost:8080/",
     "height": 34
    },
    "colab_type": "code",
    "id": "2LMTWEU6y-5v",
    "outputId": "10a75c9a-f5d4-49a4-d3af-8e5468658bd0"
   },
   "outputs": [
    {
     "data": {
      "text/plain": [
       "['Hi', 'there', 'dad!']"
      ]
     },
     "execution_count": 2,
     "metadata": {},
     "output_type": "execute_result"
    }
   ],
   "source": [
    "s = 'Hi there Sam!'\n",
    "s = s.replace('Sam', 'dad')\n",
    "s = list(s.split())\n",
    "s"
   ]
  },
  {
   "cell_type": "code",
   "execution_count": 3,
   "metadata": {
    "colab": {
     "base_uri": "https://localhost:8080/",
     "height": 119
    },
    "colab_type": "code",
    "id": "WWJuGDOAI5vL",
    "outputId": "908aa843-ca38-4543-da06-6165fc04356b"
   },
   "outputs": [
    {
     "name": "stdout",
     "output_type": "stream",
     "text": [
      "Hi,\n",
      "there\n",
      "is\n",
      "Sam!\n",
      "sssssss\n",
      "['Hi,', 'there', 'is', 'Sam!']\n"
     ]
    }
   ],
   "source": [
    "s = 'Hi, there is Sam!'\n",
    "Slist = list(s.split())\n",
    "for s in Slist:\n",
    "  print(s)\n",
    "  if s in \"Sam!\":\n",
    "    s.replace(s,'dad')\n",
    "    print('sssssss')\n",
    "print(Slist)"
   ]
  },
  {
   "cell_type": "markdown",
   "metadata": {
    "colab_type": "text",
    "id": "1Cn3FkZNp_3A"
   },
   "source": [
    "Given the variables:\n",
    "planet = “Earth”\n",
    "diameter = 12742\n",
    "Use .format() to print the following string:\n",
    "The diameter of Earth is 12742 kilometers."
   ]
  },
  {
   "cell_type": "code",
   "execution_count": 4,
   "metadata": {
    "colab": {
     "base_uri": "https://localhost:8080/",
     "height": 34
    },
    "colab_type": "code",
    "id": "qg6sUuCyI5xy",
    "outputId": "49ab4af7-8a80-4e89-a31c-db5551be53d0"
   },
   "outputs": [
    {
     "name": "stdout",
     "output_type": "stream",
     "text": [
      "The diameter of Earth is 12742 kilometers.\n"
     ]
    }
   ],
   "source": [
    "planet = 'Earth'\n",
    "diameter = 12742\n",
    "s = \"The diameter of {} is {} kilometers.\"\n",
    "print(s.format(planet, diameter))"
   ]
  },
  {
   "cell_type": "markdown",
   "metadata": {
    "colab_type": "text",
    "id": "I0_zhAIbp_ZN"
   },
   "source": [
    "Given this nested list, use indexing to grab the word “hello”\n",
    "lst = [1,2,[3,4],[5,[100,200,[‘hello’]],23,11],1,7]"
   ]
  },
  {
   "cell_type": "code",
   "execution_count": 5,
   "metadata": {
    "colab": {
     "base_uri": "https://localhost:8080/",
     "height": 34
    },
    "colab_type": "code",
    "id": "ENLKJ2TKI5z6",
    "outputId": "609ed5af-210c-4496-8f75-8fbfc192f373"
   },
   "outputs": [
    {
     "name": "stdout",
     "output_type": "stream",
     "text": [
      "['hello']\n"
     ]
    }
   ],
   "source": [
    "lst = [1,2,[3,4],[5,[100,200,['hello']],23,11],1,7]\n",
    "print(lst[3][1][2])"
   ]
  },
  {
   "cell_type": "markdown",
   "metadata": {
    "colab_type": "text",
    "id": "nLx0dQCpp_m3"
   },
   "source": [
    "Given this nested dictionary grab the word “hello”. Be prepared, this will be annoying/tricky\n",
    "d = {‘k1’:[1,2,3,{‘tricky’:[‘oh’,‘man’,‘inception’,{‘target’:[1,2,3,‘hello’]}]}]}"
   ]
  },
  {
   "cell_type": "code",
   "execution_count": 6,
   "metadata": {
    "colab": {
     "base_uri": "https://localhost:8080/",
     "height": 34
    },
    "colab_type": "code",
    "id": "0GZjHPZ4I52S",
    "outputId": "8e69805c-9897-4dff-d642-67dfc14f7559"
   },
   "outputs": [
    {
     "name": "stdout",
     "output_type": "stream",
     "text": [
      "hello\n"
     ]
    }
   ],
   "source": [
    "d = {'k1':[1,2,3,{'tricky':['oh','man','inception',{'target':[1,2,3,'hello']}]}]}\n",
    "lst = d['k1']\n",
    "dict = lst[3]\n",
    "lst2 = dict['tricky']\n",
    "dict2 = lst2[3]\n",
    "lst3 = dict2['target']\n",
    "print(lst3[3])"
   ]
  },
  {
   "cell_type": "markdown",
   "metadata": {
    "colab_type": "text",
    "id": "QgbXFBx_qZPk"
   },
   "source": [
    "What is the main difference between a tuple and a list? Intentionally generate an error by changing a tuple value."
   ]
  },
  {
   "cell_type": "code",
   "execution_count": 7,
   "metadata": {
    "colab": {
     "base_uri": "https://localhost:8080/",
     "height": 214
    },
    "colab_type": "code",
    "id": "X4OH_d3JI54a",
    "outputId": "4c7958f5-d910-4490-8dfd-bf944c0a4af1"
   },
   "outputs": [
    {
     "name": "stdout",
     "output_type": "stream",
     "text": [
      "1\n"
     ]
    },
    {
     "ename": "TypeError",
     "evalue": "'tuple' object does not support item assignment",
     "output_type": "error",
     "traceback": [
      "\u001b[1;31m---------------------------------------------------------------------------\u001b[0m",
      "\u001b[1;31mTypeError\u001b[0m                                 Traceback (most recent call last)",
      "\u001b[1;32m<ipython-input-7-be4f01d05ddc>\u001b[0m in \u001b[0;36m<module>\u001b[1;34m\u001b[0m\n\u001b[0;32m      1\u001b[0m \u001b[0mtpl\u001b[0m \u001b[1;33m=\u001b[0m \u001b[1;33m(\u001b[0m\u001b[1;34m\"a\"\u001b[0m\u001b[1;33m,\u001b[0m \u001b[1;34m\"b\"\u001b[0m\u001b[1;33m,\u001b[0m \u001b[1;36m1\u001b[0m\u001b[1;33m,\u001b[0m \u001b[1;36m3\u001b[0m\u001b[1;33m,\u001b[0m \u001b[1;36m6\u001b[0m\u001b[1;33m)\u001b[0m\u001b[1;33m\u001b[0m\u001b[1;33m\u001b[0m\u001b[0m\n\u001b[0;32m      2\u001b[0m \u001b[0mprint\u001b[0m\u001b[1;33m(\u001b[0m\u001b[0mtpl\u001b[0m\u001b[1;33m[\u001b[0m\u001b[1;36m2\u001b[0m\u001b[1;33m]\u001b[0m\u001b[1;33m)\u001b[0m\u001b[1;33m\u001b[0m\u001b[1;33m\u001b[0m\u001b[0m\n\u001b[1;32m----> 3\u001b[1;33m \u001b[0mtpl\u001b[0m\u001b[1;33m[\u001b[0m\u001b[1;36m2\u001b[0m\u001b[1;33m]\u001b[0m \u001b[1;33m=\u001b[0m \u001b[1;36m3\u001b[0m\u001b[1;33m\u001b[0m\u001b[1;33m\u001b[0m\u001b[0m\n\u001b[0m",
      "\u001b[1;31mTypeError\u001b[0m: 'tuple' object does not support item assignment"
     ]
    }
   ],
   "source": [
    "tpl = (\"a\", \"b\", 1, 3, 6)\n",
    "print(tpl[2])\n",
    "tpl[2] = 3"
   ]
  },
  {
   "cell_type": "markdown",
   "metadata": {
    "colab_type": "text",
    "id": "tKU1tr6gqcLW"
   },
   "source": [
    "Create a function that grabs the email website domain from a string in the form:\n",
    "super_user@ee.pw.edu.pl\n",
    "So for example, passing “super_user@ee.pw.edu.pl” would return: ee.pw.edu.pl"
   ]
  },
  {
   "cell_type": "code",
   "execution_count": 8,
   "metadata": {
    "colab": {
     "base_uri": "https://localhost:8080/",
     "height": 34
    },
    "colab_type": "code",
    "id": "TYhdo_XWI56r",
    "outputId": "cb7d1210-ee11-48e1-acac-f809767bb65c"
   },
   "outputs": [
    {
     "name": "stdout",
     "output_type": "stream",
     "text": [
      "ee.pw.edu.pl\n"
     ]
    }
   ],
   "source": [
    "email = 'kamil_rajewski@ee.pw.edu.pl'\n",
    "def mail_convert(mail):\n",
    "  s =  mail.split(\"@\")\n",
    "  converted = s[1]\n",
    "  print(converted)\n",
    "mail_convert(email)"
   ]
  },
  {
   "cell_type": "markdown",
   "metadata": {
    "colab_type": "text",
    "id": "H4QsYDH7qeUp"
   },
   "source": [
    "Create a basic function that returns True if the word ‘car’ is contained in the input string. Don’t worry about edge cases like a punctuation being attached to the word car, but do account for capitalization."
   ]
  },
  {
   "cell_type": "code",
   "execution_count": 9,
   "metadata": {
    "colab": {
     "base_uri": "https://localhost:8080/",
     "height": 68
    },
    "colab_type": "code",
    "id": "BN5ZP9mZI59M",
    "outputId": "1aa5aa43-2558-4287-eaa5-1a4dc38aa0dc"
   },
   "outputs": [
    {
     "name": "stdout",
     "output_type": "stream",
     "text": [
      "Success\n",
      "Success\n",
      "Unsuccessfull\n"
     ]
    }
   ],
   "source": [
    "str1 = \"My car is fine\"\n",
    "str2 = \"I have 2 cars\"\n",
    "str3 = \"Meh\"\n",
    "\n",
    "def car_exist(str):\n",
    "  car = \"car\"\n",
    "  if car in str:\n",
    "    print(\"Success\")\n",
    "  else:\n",
    "    print(\"Unsuccessfull\")\n",
    "    \n",
    "car_exist(str1)\n",
    "car_exist(str2)\n",
    "car_exist(str3)\n",
    "\n"
   ]
  },
  {
   "cell_type": "markdown",
   "metadata": {
    "colab_type": "text",
    "id": "VyDXES-eqf5z"
   },
   "source": [
    "Create a function that counts the number of times the word “car” occurs in a string. Again ignore edge cases.\n",
    "Example:\n",
    "countCar(‘This car runs faster than the other car dude!’)"
   ]
  },
  {
   "cell_type": "code",
   "execution_count": 10,
   "metadata": {
    "colab": {
     "base_uri": "https://localhost:8080/",
     "height": 68
    },
    "colab_type": "code",
    "id": "AQYQLxHf7wnl",
    "outputId": "a8a54e18-fe8e-4054-dd3f-b883fa0e1862"
   },
   "outputs": [
    {
     "name": "stdout",
     "output_type": "stream",
     "text": [
      "1\n",
      "3\n",
      "0\n"
     ]
    }
   ],
   "source": [
    "str1 = \"My car is fine\"\n",
    "str2 = \"I have 2 car, my father got 3, sister got 5 car, everyone like cars\"\n",
    "str3 = \"Meh\"\n",
    "\n",
    "def car_exist(str):\n",
    "  car = \"car\"\n",
    "  x = 0\n",
    "  converted = str.split()\n",
    "  converted_len = len(converted)\n",
    "  for slowo in range(0, converted_len):\n",
    "    if car in converted[slowo]:\n",
    "      x += 1\n",
    "  print(x)\n",
    "    \n",
    "car_exist(str1)\n",
    "car_exist(str2)\n",
    "car_exist(str3)"
   ]
  },
  {
   "cell_type": "markdown",
   "metadata": {
    "colab_type": "text",
    "id": "C6f1aWS2qigl"
   },
   "source": [
    "Use lambda expressions and the filter() function to filter out words from a list that don’t start with the letter ‘s’. For example:\n",
    "seq = [‘soup’,‘dog’,‘salad’,‘cat’,‘great’]\n",
    "should be filtered down to:\n",
    "[‘soup’,‘salad’]"
   ]
  },
  {
   "cell_type": "code",
   "execution_count": 11,
   "metadata": {
    "colab": {
     "base_uri": "https://localhost:8080/",
     "height": 35
    },
    "colab_type": "code",
    "id": "8KP5CwOp7wqC",
    "outputId": "f720a5b8-0744-4e09-c9b8-ead40f4aebda"
   },
   "outputs": [
    {
     "data": {
      "text/plain": [
       "['soup', 'salad']"
      ]
     },
     "execution_count": 11,
     "metadata": {},
     "output_type": "execute_result"
    }
   ],
   "source": [
    "seq = ['soup','dog','salad','cat','great', 'asa']\n",
    "list(filter( lambda seq: 's' in seq[0], seq))"
   ]
  },
  {
   "cell_type": "markdown",
   "metadata": {
    "colab_type": "text",
    "id": "N5KRksd_qkOy"
   },
   "source": [
    "Final Problem\n",
    "You are driving a little too fast, and a police officer stops you. Write a function to return one of 3 possible results: “No ticket”, “Small ticket”, or “Big Ticket”. If your speed is 60 or less, the result is “No Ticket”. If speed is between 61 and 80 inclusive, the result is “Small Ticket”. If speed is 81 or more, the result is “Big Ticket”. Unless it is your birthday (encoded as a boolean value in the parameters of the function) – on your birthday, your speed can be 5 higher in all cases."
   ]
  },
  {
   "cell_type": "code",
   "execution_count": 12,
   "metadata": {
    "colab": {
     "base_uri": "https://localhost:8080/",
     "height": 34
    },
    "colab_type": "code",
    "id": "49Bx2A667wsi",
    "outputId": "bf4fb588-0ede-487b-afa8-a90f82091198"
   },
   "outputs": [
    {
     "data": {
      "text/plain": [
       "[1, 4, 9, 16, 25]"
      ]
     },
     "execution_count": 12,
     "metadata": {},
     "output_type": "execute_result"
    }
   ],
   "source": [
    "items = [1, 2, 3, 4, 5]\n",
    "squared = []\n",
    "for i in items:\n",
    "    squared.append(i**2)\n",
    "squared"
   ]
  },
  {
   "cell_type": "code",
   "execution_count": 13,
   "metadata": {
    "colab": {
     "base_uri": "https://localhost:8080/",
     "height": 153
    },
    "colab_type": "code",
    "id": "_HgBf_x9JIxk",
    "outputId": "9a839fd4-841c-4f80-d110-55cf0b131a56"
   },
   "outputs": [
    {
     "name": "stdout",
     "output_type": "stream",
     "text": [
      "No Ticket\n",
      "Small ticket\n",
      "Big Ticket\n",
      "Small ticket\n",
      "No Ticket\n",
      "Small ticket\n",
      "Big Ticket\n",
      "Big Ticket\n"
     ]
    }
   ],
   "source": [
    "birthday = 1\n",
    "s1 = 50\n",
    "s2 = 70\n",
    "s3 = 100\n",
    "s4 = 83\n",
    "def check_speed(speed, is_birthday):\n",
    "  if is_birthday == True:\n",
    "    speed = speed - 5\n",
    "  if speed <= 60:\n",
    "    print(\"No Ticket\")\n",
    "  if speed > 60 and speed <= 80:\n",
    "    print(\"Small ticket\")\n",
    "  if speed >80:\n",
    "    print(\"Big Ticket\")\n",
    "  \n",
    "check_speed(s1, birthday)\n",
    "check_speed(s2, birthday)\n",
    "check_speed(s3, birthday)\n",
    "check_speed(s4, birthday)\n",
    "\n",
    "birthday = 0\n",
    "  \n",
    "check_speed(s1, birthday)\n",
    "check_speed(s2, birthday)\n",
    "check_speed(s3, birthday)\n",
    "check_speed(s4, birthday)"
   ]
  },
  {
   "cell_type": "code",
   "execution_count": null,
   "metadata": {},
   "outputs": [],
   "source": []
  },
  {
   "cell_type": "code",
   "execution_count": null,
   "metadata": {},
   "outputs": [],
   "source": []
  }
 ],
 "metadata": {
  "colab": {
   "collapsed_sections": [],
   "name": "Excercise_1_solutions.ipynb",
   "provenance": [],
   "version": "0.3.2"
  },
  "kernelspec": {
   "display_name": "Python 3",
   "language": "python",
   "name": "python3"
  },
  "language_info": {
   "codemirror_mode": {
    "name": "ipython",
    "version": 3
   },
   "file_extension": ".py",
   "mimetype": "text/x-python",
   "name": "python",
   "nbconvert_exporter": "python",
   "pygments_lexer": "ipython3",
   "version": "3.7.1"
  }
 },
 "nbformat": 4,
 "nbformat_minor": 1
}
