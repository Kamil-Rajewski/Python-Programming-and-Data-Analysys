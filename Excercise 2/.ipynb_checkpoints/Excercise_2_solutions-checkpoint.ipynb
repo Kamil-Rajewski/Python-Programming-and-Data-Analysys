{
 "cells": [
  {
   "cell_type": "markdown",
   "metadata": {
    "colab_type": "text",
    "id": "xo9SJQ-y5w-3"
   },
   "source": [
    "# **LECTURE 2 **"
   ]
  },
  {
   "cell_type": "markdown",
   "metadata": {
    "colab_type": "text",
    "id": "UF_AMeI92Wih"
   },
   "source": [
    "Construct a generator which returns a sequence of prime numbers as a function, class and expression ().\n",
    "\n"
   ]
  },
  {
   "cell_type": "markdown",
   "metadata": {
    "colab_type": "text",
    "id": "XECpJFx752DP"
   },
   "source": [
    "**1st** as a function"
   ]
  },
  {
   "cell_type": "code",
   "execution_count": 1,
   "metadata": {
    "colab": {
     "base_uri": "https://localhost:8080/",
     "height": 33
    },
    "colab_type": "code",
    "id": "iegYoQRdJJH2",
    "outputId": "5e89b493-77a7-4ba9-f5b2-11b3f843e437"
   },
   "outputs": [
    {
     "name": "stdout",
     "output_type": "stream",
     "text": [
      "[2, 3, 5, 7, 11, 13, 17, 19]\n"
     ]
    }
   ],
   "source": [
    "# def myprimef():\n",
    "#   n = 2\n",
    "#   while True: \n",
    "#     isprime = True\n",
    "    \n",
    "#     for i in range(2, n):\n",
    "#       if n == 2:\n",
    "#         yield n\n",
    "        \n",
    "#       if n % i == 0:\n",
    "#         isprime = False\n",
    "#         break\n",
    "      \n",
    "#     if isprime:\n",
    "#       yield n\n",
    "      \n",
    "#     n += 1\n",
    "    \n",
    "# prime = myprimef()\n",
    "# print(next(prime))\n",
    "# print(next(prime))\n",
    "# print(next(prime))\n",
    "# print(next(prime))\n",
    "# print(next(prime))\n",
    "# print(next(prime))\n",
    "# print(next(prime))\n",
    "\n",
    "# another topic\n",
    "def myprimef(n):\n",
    "  for i in range(2, n + 1):\n",
    "    if all(i % j != 0 for j in range(2, i)):\n",
    "      yield i\n",
    "\n",
    "print(list(myprimef(22)))\n",
    "\n"
   ]
  },
  {
   "cell_type": "markdown",
   "metadata": {
    "colab_type": "text",
    "id": "iN7FSv2957Oj"
   },
   "source": [
    "**1st** as a class"
   ]
  },
  {
   "cell_type": "code",
   "execution_count": 2,
   "metadata": {
    "colab": {
     "base_uri": "https://localhost:8080/",
     "height": 117
    },
    "colab_type": "code",
    "id": "Ipkuvz1_JNYE",
    "outputId": "ff4ffb1e-8c0d-4d57-e390-2c9fc590191b"
   },
   "outputs": [
    {
     "name": "stdout",
     "output_type": "stream",
     "text": [
      "2\n",
      "3\n",
      "5\n",
      "7\n",
      "11\n",
      "13\n"
     ]
    }
   ],
   "source": [
    "class MyPrimeC(object):\n",
    "  def __init__(self, n):\n",
    "    self.n = n\n",
    "    self.i = 2\n",
    "  def __next__(self):\n",
    "    while True: \n",
    "      i = self.i\n",
    "      self.i += 1\n",
    "      \n",
    "      if i > self.n:\n",
    "        return\n",
    "      \n",
    "      if all(i % j != 0 for j in range(2,i)):\n",
    "        return i\n",
    "\n",
    "prime = MyPrimeC(33)\n",
    "print(next(prime))\n",
    "print(next(prime))\n",
    "print(next(prime))\n",
    "print(next(prime))\n",
    "print(next(prime))\n",
    "print(next(prime))\n"
   ]
  },
  {
   "cell_type": "markdown",
   "metadata": {
    "colab_type": "text",
    "id": "Ox6vKCbZ6AJL"
   },
   "source": [
    "**1st** as a expression"
   ]
  },
  {
   "cell_type": "code",
   "execution_count": 3,
   "metadata": {
    "colab": {
     "base_uri": "https://localhost:8080/",
     "height": 33
    },
    "colab_type": "code",
    "id": "p90RzSnNJNc7",
    "outputId": "304c99df-ad31-457c-fc6b-a5700d148ddd"
   },
   "outputs": [
    {
     "name": "stdout",
     "output_type": "stream",
     "text": [
      "[2, 3, 5, 7, 11, 13, 17, 19, 23, 29, 31, 37, 41, 43]\n"
     ]
    }
   ],
   "source": [
    "primeg = lambda n: (i for i in range(2, n + 1) if all(i % j != 0 for j in range(2, i)))\n",
    "print(list(primeg(44)))\n"
   ]
  },
  {
   "cell_type": "markdown",
   "metadata": {
    "colab_type": "text",
    "id": "-TZ20b8m2bbG"
   },
   "source": [
    "Fill in the Line class methods to accept coordinate as a pair of tuples and return the slope and distance of the line.\n",
    "\n"
   ]
  },
  {
   "cell_type": "markdown",
   "metadata": {
    "colab_type": "text",
    "id": "QE5swnDFLFpz"
   },
   "source": [
    "**2nd** problem"
   ]
  },
  {
   "cell_type": "code",
   "execution_count": 4,
   "metadata": {
    "colab": {
     "base_uri": "https://localhost:8080/",
     "height": 35
    },
    "colab_type": "code",
    "id": "6Ms1pd3pLElk",
    "outputId": "494fbfd5-d469-415a-dbb5-206e3d406ecb"
   },
   "outputs": [
    {
     "data": {
      "text/plain": [
       "1.33"
      ]
     },
     "execution_count": 4,
     "metadata": {},
     "output_type": "execute_result"
    }
   ],
   "source": [
    "import math\n",
    "class Line:\n",
    "    def __init__(self,coor1,coor2):\n",
    "        \"\"\"Initialize instance attributes with tuples (x1,y1)  and (x2,y2)\n",
    "        \"\"\"\n",
    "        self.coor1 = coor1\n",
    "        self.coor2 = coor2\n",
    "        self.slp = round((coor1[1]-coor2[1])/(coor1[0]-coor2[0]),2)\n",
    "        self.dist = math.sqrt((coor1[0]-coor2[0])**2 + (coor1[1]-coor2[1])**2)\n",
    "        \n",
    "        \n",
    "    def distance(self):\n",
    "        \"\"\"Calculate the length of the segment (line)\n",
    "        \"\"\"\n",
    "        return self.dist\n",
    "    \n",
    "    def slope(self):\n",
    "        \"\"\" Return the slope of a line going through the ends ( the 'a' in y=ax+b)\n",
    "        \"\"\"\n",
    "        return self.slp\n",
    "        \n",
    "cr1 = (1,1)\n",
    "cr2 = (4,5)\n",
    "line1 = Line(cr1,cr2)\n",
    "line1.distance()\n",
    "line1.slope()\n"
   ]
  },
  {
   "cell_type": "markdown",
   "metadata": {
    "colab_type": "text",
    "id": "3xO-F3On-dqm"
   },
   "source": [
    "**3rd** problem"
   ]
  },
  {
   "cell_type": "markdown",
   "metadata": {
    "colab_type": "text",
    "id": "v_YDLWmA2sjn"
   },
   "source": [
    "Fill in the class\n",
    "\n"
   ]
  },
  {
   "cell_type": "code",
   "execution_count": 5,
   "metadata": {
    "colab": {
     "base_uri": "https://localhost:8080/",
     "height": 50
    },
    "colab_type": "code",
    "id": "reroT8BUJNfD",
    "outputId": "8837cca7-2ecc-4237-f4c4-f548d409fe6c"
   },
   "outputs": [
    {
     "name": "stdout",
     "output_type": "stream",
     "text": [
      "56.55\n",
      "94.2\n"
     ]
    }
   ],
   "source": [
    "class Cylinder(object):\n",
    "    \n",
    "    def __init__(self,height=1,radius=1):\n",
    "        self.height = height\n",
    "        self.radius = radius\n",
    "        self.vol = round(math.pi*self.radius**2*self.height,2)\n",
    "        self.surfarea = round(2*math.pi*self.radius**2 + 2*math.pi*self.radius*self.height,1)\n",
    "        \n",
    "    def volume(self):\n",
    "        return self.vol\n",
    "    \n",
    "    def surface_area(self):\n",
    "        return self.surfarea\n",
    "      \n",
    "\n",
    "c = Cylinder(2,3)\n",
    "print(c.volume())\n",
    "print(c.surface_area())\n"
   ]
  },
  {
   "cell_type": "code",
   "execution_count": 6,
   "metadata": {
    "colab": {},
    "colab_type": "code",
    "id": "f3RJbx9sB6Q-"
   },
   "outputs": [],
   "source": [
    "    def volume(self):\n",
    "        print(f\"{self.vol:.2f}\")\n",
    "    \n",
    "    def surface_area(self):\n",
    "        print(f\"{self.surfarea:.1f}\") \n"
   ]
  },
  {
   "cell_type": "markdown",
   "metadata": {
    "colab_type": "text",
    "id": "8XM8ba7tESnP"
   },
   "source": []
  },
  {
   "cell_type": "markdown",
   "metadata": {
    "colab_type": "text",
    "id": "n6ZI_oVxB6Kh"
   },
   "source": [
    "**4th** problem"
   ]
  },
  {
   "cell_type": "code",
   "execution_count": 7,
   "metadata": {
    "colab": {},
    "colab_type": "code",
    "id": "1l5E26ScCyBx"
   },
   "outputs": [
    {
     "ename": "IndentationError",
     "evalue": "unexpected indent (<ipython-input-7-c594afb2aad0>, line 22)",
     "output_type": "error",
     "traceback": [
      "\u001b[1;36m  File \u001b[1;32m\"<ipython-input-7-c594afb2aad0>\"\u001b[1;36m, line \u001b[1;32m22\u001b[0m\n\u001b[1;33m    (...)\u001b[0m\n\u001b[1;37m    ^\u001b[0m\n\u001b[1;31mIndentationError\u001b[0m\u001b[1;31m:\u001b[0m unexpected indent\n"
     ]
    }
   ],
   "source": [
    "class DataFile(object):\n",
    "\n",
    "  def __init__(self, filename='undef'):\n",
    "    (...)\n",
    "  \n",
    "  def info(self):\n",
    "    (...)\n",
    "    \n",
    "  def avg(self, colnum=0, colname=''):\n",
    "    \"\"\" The column name or colnum can be provided alternatively\n",
    "    \"\"\"\n",
    "    (...)\n",
    "    \n",
    "  def min(self, colnum=0, colname=''):\n",
    "      (...)  \n",
    "      \n",
    "  def max(self, colnum=0, colname=''):\n",
    "      (...)  \n",
    "\n",
    "  def distinc(self, colnum=0, colname=''):\n",
    "     \"Counts distinct number of values in a given column.\"\n",
    "      (...)  "
   ]
  },
  {
   "cell_type": "markdown",
   "metadata": {
    "colab_type": "text",
    "id": "U2mqlU04txQ-"
   },
   "source": [
    "# New Section"
   ]
  }
 ],
 "metadata": {
  "colab": {
   "collapsed_sections": [],
   "name": "Excercise_2_solutions.ipynb",
   "provenance": [],
   "toc_visible": true,
   "version": "0.3.2"
  },
  "kernelspec": {
   "display_name": "Python 3",
   "language": "python",
   "name": "python3"
  },
  "language_info": {
   "codemirror_mode": {
    "name": "ipython",
    "version": 3
   },
   "file_extension": ".py",
   "mimetype": "text/x-python",
   "name": "python",
   "nbconvert_exporter": "python",
   "pygments_lexer": "ipython3",
   "version": "3.7.1"
  }
 },
 "nbformat": 4,
 "nbformat_minor": 1
}
