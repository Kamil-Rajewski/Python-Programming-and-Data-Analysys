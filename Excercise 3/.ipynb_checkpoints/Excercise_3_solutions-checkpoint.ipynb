{
 "cells": [
  {
   "cell_type": "markdown",
   "metadata": {
    "colab_type": "text",
    "id": "iLxbeDG7qgQg"
   },
   "source": [
    "# Lecture 3\n"
   ]
  },
  {
   "cell_type": "markdown",
   "metadata": {
    "colab_type": "text",
    "id": "MVa-yxIR2_Wm"
   },
   "source": [
    "Calculate a value of a polynomial for a vector of x coordinates using single line list comprehension expression and a generator.\n",
    "\n",
    "You must apply the enumerate() and sum() functions"
   ]
  },
  {
   "cell_type": "markdown",
   "metadata": {
    "colab_type": "text",
    "id": "Z5MQAqwyqlnB"
   },
   "source": [
    "**1st** problem generator"
   ]
  },
  {
   "cell_type": "code",
   "execution_count": 1,
   "metadata": {
    "colab": {
     "base_uri": "https://localhost:8080/",
     "height": 70
    },
    "colab_type": "code",
    "id": "S9J_bhvbqb37",
    "outputId": "ad30f985-4487-4ba7-b1d7-a4d46d437b82"
   },
   "outputs": [
    {
     "ename": "NameError",
     "evalue": "name 'lambda_function' is not defined",
     "output_type": "error",
     "traceback": [
      "\u001b[1;31m---------------------------------------------------------------------------\u001b[0m",
      "\u001b[1;31mNameError\u001b[0m                                 Traceback (most recent call last)",
      "\u001b[1;32m<ipython-input-1-35b40dd2f75a>\u001b[0m in \u001b[0;36m<module>\u001b[1;34m\u001b[0m\n\u001b[0;32m     20\u001b[0m \u001b[1;33m\u001b[0m\u001b[0m\n\u001b[0;32m     21\u001b[0m \u001b[1;31m#lambda_function = list(map(lambda ans, c, x: sum((a*x[i]**n, ans))  for i in range(len(x)) for n,a in enumerate(c)))\u001b[0m\u001b[1;33m\u001b[0m\u001b[1;33m\u001b[0m\u001b[1;33m\u001b[0m\u001b[0m\n\u001b[1;32m---> 22\u001b[1;33m \u001b[0mprint\u001b[0m\u001b[1;33m(\u001b[0m\u001b[0mlambda_function\u001b[0m\u001b[1;33m)\u001b[0m\u001b[1;33m\u001b[0m\u001b[1;33m\u001b[0m\u001b[0m\n\u001b[0m\u001b[0;32m     23\u001b[0m \u001b[1;33m\u001b[0m\u001b[0m\n\u001b[0;32m     24\u001b[0m \u001b[0mprint\u001b[0m\u001b[1;33m(\u001b[0m\u001b[0mp\u001b[0m\u001b[1;33m)\u001b[0m\u001b[1;33m\u001b[0m\u001b[1;33m\u001b[0m\u001b[0m\n",
      "\u001b[1;31mNameError\u001b[0m: name 'lambda_function' is not defined"
     ]
    }
   ],
   "source": [
    "c = [1,2,3]\n",
    "x = [0, 2, 4, 8]\n",
    "#squared = [i ** 2 for i in c]\n",
    "#squared = list(map(lambda c: c**2, c))\n",
    "\n",
    "import matplotlib.pyplot as plt\n",
    "c = [1,2,3]\n",
    "x = [0, 2, 4, 8]\n",
    "\n",
    "def polynomial():\n",
    "    for i in range(len(x)):\n",
    "        ans = 0\n",
    "        for n,a in enumerate(c): \n",
    "            ans = sum((a*x[i]**n, ans)) \n",
    "        yield ans\n",
    "\n",
    "p = (list(polynomial()))\n",
    "\n",
    "ans = 0\n",
    "\n",
    "#lambda_function = list(map(lambda ans, c, x: sum((a*x[i]**n, ans))  for i in range(len(x)) for n,a in enumerate(c)))\n",
    "print(lambda_function)\n",
    "\n",
    "print(p) "
   ]
  },
  {
   "cell_type": "markdown",
   "metadata": {
    "colab_type": "text",
    "id": "Xpesn0bOWe2Y"
   },
   "source": [
    "**1st** problem list comprehension"
   ]
  },
  {
   "cell_type": "code",
   "execution_count": null,
   "metadata": {
    "colab": {
     "base_uri": "https://localhost:8080/",
     "height": 35
    },
    "colab_type": "code",
    "id": "Vlk5p9QezWSZ",
    "outputId": "ed08c9ef-eabd-466a-8ee7-8e9f5aef69fe"
   },
   "outputs": [],
   "source": [
    "c = [1,2,3]\n",
    "x = [0, 2, 4, 8]\n",
    "p = [ sum([b*(i**a) for a,b in list(enumerate(c))]) for i in x_old]\n",
    "print(p)"
   ]
  },
  {
   "cell_type": "markdown",
   "metadata": {
    "colab_type": "text",
    "id": "rJerCrnTS_ZZ"
   },
   "source": [
    "**2nd** problem"
   ]
  },
  {
   "cell_type": "markdown",
   "metadata": {
    "colab_type": "text",
    "id": "kDg0PEov3NSo"
   },
   "source": [
    "Generate a smooth polynomial plot from Task 1 using dense vector of x coordinates\n",
    "\n"
   ]
  },
  {
   "cell_type": "code",
   "execution_count": null,
   "metadata": {
    "colab": {
     "base_uri": "https://localhost:8080/",
     "height": 347
    },
    "colab_type": "code",
    "id": "fMAqpDR-mzed",
    "outputId": "03daffcd-ed2a-4944-cebd-24c07c3ba301"
   },
   "outputs": [],
   "source": [
    "# n = 100\n",
    "# xd = [8*x/n for x in range(n)]\n",
    "\n",
    "# import matplotlib.pyplot as plt\n",
    "# x = [8*i/100 for i in range(0,100)]\n",
    "# y = [x**2 for x in x]\n",
    "# plt.plot(x,y)\n",
    "\n",
    "import matplotlib as plt\n",
    "import numpy as np\n",
    "\n",
    "c = [1,2,3]\n",
    "x  = np.linspace(0.,10.1000)\n",
    "x_old = [0,2,4,8]\n",
    "\n",
    "plt.pyplot.plot(x,[ sum([b*(i**a) for a,b in list(enumerate(c))]) for i in x]) \n",
    "plt.pyplot.plot(x_old,[ sum([b*(i**a) for a,b in list(enumerate(c))]) for i in x_old])\n",
    "plt.pyplot.show()"
   ]
  },
  {
   "cell_type": "markdown",
   "metadata": {
    "colab_type": "text",
    "id": "0Vn_eUucgnEB"
   },
   "source": [
    "**3rd**"
   ]
  },
  {
   "cell_type": "markdown",
   "metadata": {
    "colab_type": "text",
    "id": "eDAekx5B3TBu"
   },
   "source": [
    "Using a conditiional list comprehension, convert all occurrences of the letter ‘e’ in the following string to uppercase: thepurposeoflife\n",
    "\n",
    "You can use ''.join( alist ) to join a list of characters into a single string."
   ]
  },
  {
   "cell_type": "code",
   "execution_count": null,
   "metadata": {
    "colab": {
     "base_uri": "https://localhost:8080/",
     "height": 33
    },
    "colab_type": "code",
    "id": "pkrjVqXSBjtt",
    "outputId": "a56705ce-d8cb-4868-e2fa-2098efd3f8ef"
   },
   "outputs": [],
   "source": [
    "upperstr = 'thepurposeoflife'\n",
    "\n",
    "upperstr = [x.upper() if x ==\"e\" else x for x in list(upperstr)]\n",
    "upperstr = ''.join(upperstr)\n",
    "print(upperstr)"
   ]
  },
  {
   "cell_type": "markdown",
   "metadata": {
    "colab_type": "text",
    "id": "nAkiUc0IYicr"
   },
   "source": [
    "# **4th**"
   ]
  },
  {
   "cell_type": "markdown",
   "metadata": {
    "colab_type": "text",
    "id": "EB3spxIy3aN2"
   },
   "source": [
    "Use the following tuple of tuples\n",
    "records = ((‘Sam’, 19, ‘CS’),\n",
    "(‘Nicole’, 21, ‘Biochemistry’),\n",
    "(‘Paul’, 20, ‘Fine Arts’),\n",
    "(‘Ashley’, 18, ‘History’))\n",
    "iterate over the records, unpack them, and print the results\n",
    "This might be useful syntax for printing:\n",
    "print(‘%s and %d and %s’, % (‘a string’, 10, ‘another string’))\n",
    "Make a function as well to complete the following:\n",
    " def showrecords(records): '''Unpack records stored in a tuple of tuples and print each one in a nice format''' ... showrecords(___) "
   ]
  },
  {
   "cell_type": "code",
   "execution_count": null,
   "metadata": {
    "colab": {
     "base_uri": "https://localhost:8080/",
     "height": 85
    },
    "colab_type": "code",
    "id": "0IP8Lf_DYiwn",
    "outputId": "6c75db6c-d180-4ea6-e90f-bbf32bd3de94"
   },
   "outputs": [],
   "source": [
    "records = (('Sam', 19, 'CS'),\n",
    "('Nicole', 21, 'Biochemistry'),\n",
    "('Paul', 20, 'Fine Arts'),\n",
    "('Ashley', 18, 'History'))\n",
    "\n",
    "records = (('Sam', 19, 'CS'),\n",
    "('Nicole', 21, 'Biochemistry'),\n",
    "('Paul', 20, 'Fine Arts'),\n",
    "('Ashley', 18, 'History'))\n",
    " \n",
    "def showrecords(records):\n",
    "  for record in records:\n",
    "    name,age,faculty = record\n",
    "    print(f'{name}\\t{age}\\t{faculty}')\n",
    "    \n",
    "showrecords(records)    "
   ]
  },
  {
   "cell_type": "markdown",
   "metadata": {
    "colab_type": "text",
    "id": "0v_ruE57V_U8"
   },
   "source": [
    "**5th**"
   ]
  },
  {
   "cell_type": "markdown",
   "metadata": {
    "colab_type": "text",
    "id": "THyqiqN7ra20"
   },
   "source": [
    "Make a nested function and a python closure to make functions to get multiple multiplication functions using closures. That is using closures, one could make functions to create multiply_with_5() or multiply_with_4() functions using closures.\n",
    "\n"
   ]
  },
  {
   "cell_type": "code",
   "execution_count": null,
   "metadata": {
    "colab": {
     "base_uri": "https://localhost:8080/",
     "height": 51
    },
    "colab_type": "code",
    "id": "nABxY0C0V_tO",
    "outputId": "2fd6f453-2706-4e5d-c5c1-a8ba5fb6971f"
   },
   "outputs": [],
   "source": [
    "def multiplier_of(n):\n",
    "    def multiplier(number):\n",
    "        return number*n\n",
    "    return multiplier\n",
    "\n",
    "multiplywith5 = multiplier_of(5)\n",
    "print(multiplywith5(9))\n",
    "\n",
    "multiply_with_45 = multiplier_of(multiplywith5(9))\n",
    "print(multiply_with_45(2))"
   ]
  },
  {
   "cell_type": "markdown",
   "metadata": {
    "colab_type": "text",
    "id": "wrl8DFHZrbhl"
   },
   "source": [
    "**6th**"
   ]
  },
  {
   "cell_type": "markdown",
   "metadata": {
    "colab_type": "text",
    "id": "_5Rw7tvsrbkC"
   },
   "source": [
    "Make a decorator factory which returns a decorator that decorates functions with one argument. The factory should take one argument, a type, and then returns a decorator that makes function should check if the input is the correct type. If it is wrong, it should print(“Bad Type”) (In reality, it should raise an error, but error raising isn’t in this tutorial). Look at the tutorial code and expected output to see what it is if you are confused (I know I would be.) Using isinstance(object, type_of_object) or type(object) might help.\n"
   ]
  },
  {
   "cell_type": "code",
   "execution_count": null,
   "metadata": {
    "colab": {},
    "colab_type": "code",
    "id": "-jatbu5Pr__Z"
   },
   "outputs": [],
   "source": [
    "def type_check(correct_type):\n",
    "    def check(old_function):\n",
    "        def wrapped_func(arg):\n",
    "          if(isinstance(arg,correct_type)):\n",
    "            return old_function(arg)\n",
    "          else:\n",
    "            return print('Bad type')\n",
    "        return wrapped_func\n",
    "    return check"
   ]
  },
  {
   "cell_type": "markdown",
   "metadata": {
    "colab_type": "text",
    "id": "akfKE9DNrcO-"
   },
   "source": [
    "**7th**"
   ]
  },
  {
   "cell_type": "markdown",
   "metadata": {
    "colab_type": "text",
    "id": "zBLb8m9TrcQ9"
   },
   "source": [
    "Decorators don’t have to wrap the function they’re decorating. They can also simply register that a function exists and return it unwrapped. This can be used, for instance, to create a light-weight plug-in architecture:\n",
    "\n"
   ]
  },
  {
   "cell_type": "code",
   "execution_count": null,
   "metadata": {
    "colab": {
     "base_uri": "https://localhost:8080/",
     "height": 51
    },
    "colab_type": "code",
    "id": "KT561O0erxPT",
    "outputId": "c0762f63-56ca-4d7c-baa0-6afadd13c0fc"
   },
   "outputs": [],
   "source": [
    "import random\n",
    "PLUGINS = dict()\n",
    " \n",
    "def register(func):\n",
    "    PLUGINS[func.__name__] = func\n",
    "    return func\n",
    " \n",
    "@register\n",
    "def say_hello(name):\n",
    "    return f\"Hello {name}\"\n",
    " \n",
    "@register\n",
    "def be_awesome(name):\n",
    "    return f\"Yo {name}, together we are the awesomest!\"\n",
    " \n",
    "def randomly_greet(name):\n",
    "    greeter, greeter_func = random.choice(list(PLUGINS.items()))\n",
    "    print(f\"Using {greeter!r}\")\n",
    "    return greeter_func(name)\n",
    " \n",
    "randomly_greet('John')"
   ]
  }
 ],
 "metadata": {
  "colab": {
   "collapsed_sections": [],
   "name": "Excercise_3_solutions.ipynb",
   "provenance": [],
   "toc_visible": true,
   "version": "0.3.2"
  },
  "kernelspec": {
   "display_name": "Python 3",
   "language": "python",
   "name": "python3"
  },
  "language_info": {
   "codemirror_mode": {
    "name": "ipython",
    "version": 3
   },
   "file_extension": ".py",
   "mimetype": "text/x-python",
   "name": "python",
   "nbconvert_exporter": "python",
   "pygments_lexer": "ipython3",
   "version": "3.7.1"
  }
 },
 "nbformat": 4,
 "nbformat_minor": 1
}
