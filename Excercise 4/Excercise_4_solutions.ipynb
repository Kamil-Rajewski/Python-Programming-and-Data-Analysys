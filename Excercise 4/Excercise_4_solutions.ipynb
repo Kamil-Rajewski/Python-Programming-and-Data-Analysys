{
 "cells": [
  {
   "cell_type": "markdown",
   "metadata": {
    "colab_type": "text",
    "id": "-l5aHlcCSW7Z"
   },
   "source": [
    "# Lecture 4"
   ]
  },
  {
   "cell_type": "markdown",
   "metadata": {
    "colab_type": "text",
    "id": "HHU-hMOLSa_P"
   },
   "source": [
    "**1st** problem"
   ]
  },
  {
   "cell_type": "markdown",
   "metadata": {
    "colab_type": "text",
    "id": "4o6BXp783yBg"
   },
   "source": [
    "Import NumPy as np\n",
    "Create an array of 10 zeros"
   ]
  },
  {
   "cell_type": "code",
   "execution_count": 1,
   "metadata": {
    "colab": {
     "base_uri": "https://localhost:8080/",
     "height": 34
    },
    "colab_type": "code",
    "id": "6NHTqCNrSPmR",
    "outputId": "31eeaa7b-2a5d-44e2-af3d-11048e54b52e"
   },
   "outputs": [
    {
     "name": "stdout",
     "output_type": "stream",
     "text": [
      "[0. 0. 0. 0. 0. 0. 0. 0. 0. 0.]\n"
     ]
    }
   ],
   "source": [
    "import numpy as np\n",
    "\n",
    "A = np.zeros(10)\n",
    "print(A)"
   ]
  },
  {
   "cell_type": "markdown",
   "metadata": {
    "colab_type": "text",
    "id": "R1KsRLFK30d1"
   },
   "source": [
    "Create an array of 10 ones\n"
   ]
  },
  {
   "cell_type": "code",
   "execution_count": 2,
   "metadata": {
    "colab": {
     "base_uri": "https://localhost:8080/",
     "height": 34
    },
    "colab_type": "code",
    "id": "FsV1WjaBSaWJ",
    "outputId": "febf9b5f-1eb7-469b-f523-0494eab1e503"
   },
   "outputs": [
    {
     "name": "stdout",
     "output_type": "stream",
     "text": [
      "[1. 1. 1. 1. 1. 1. 1. 1. 1. 1.]\n"
     ]
    }
   ],
   "source": [
    "B = np.ones(10)\n",
    "print(B)"
   ]
  },
  {
   "cell_type": "markdown",
   "metadata": {
    "colab_type": "text",
    "id": "-g2GxeCq32Ot"
   },
   "source": [
    "Create an array of 10 fives\n"
   ]
  },
  {
   "cell_type": "code",
   "execution_count": 3,
   "metadata": {
    "colab": {
     "base_uri": "https://localhost:8080/",
     "height": 34
    },
    "colab_type": "code",
    "id": "Hj6uhA0MT80N",
    "outputId": "465a7468-d1bb-4f10-a3ce-a4dc9935431c"
   },
   "outputs": [
    {
     "name": "stdout",
     "output_type": "stream",
     "text": [
      "[5 5 5 5 5 5 5 5 5 5]\n"
     ]
    }
   ],
   "source": [
    "C = np.full(10,5)\n",
    "print(C)"
   ]
  },
  {
   "cell_type": "markdown",
   "metadata": {
    "colab_type": "text",
    "id": "at0IC_9_332-"
   },
   "source": [
    "Create an array of integers from 10 to 50\n"
   ]
  },
  {
   "cell_type": "code",
   "execution_count": 4,
   "metadata": {
    "colab": {
     "base_uri": "https://localhost:8080/",
     "height": 51
    },
    "colab_type": "code",
    "id": "t2-1PbIhUWY8",
    "outputId": "e33ce1eb-9306-408b-d030-71aafc4267eb"
   },
   "outputs": [
    {
     "name": "stdout",
     "output_type": "stream",
     "text": [
      "[10 11 12 13 14 15 16 17 18 19 20 21 22 23 24 25 26 27 28 29 30 31 32 33\n",
      " 34 35 36 37 38 39 40 41 42 43 44 45 46 47 48 49 50]\n"
     ]
    }
   ],
   "source": [
    "D = np.arange(10,51)\n",
    "print(D)"
   ]
  },
  {
   "cell_type": "markdown",
   "metadata": {
    "colab_type": "text",
    "id": "jtACjsY836NK"
   },
   "source": [
    "Create an array of all the even integers from 10 to 50\n"
   ]
  },
  {
   "cell_type": "code",
   "execution_count": 5,
   "metadata": {
    "colab": {
     "base_uri": "https://localhost:8080/",
     "height": 34
    },
    "colab_type": "code",
    "id": "DOHFWpZoUrtk",
    "outputId": "15878979-984a-4970-d497-10a1efbeb77c"
   },
   "outputs": [
    {
     "name": "stdout",
     "output_type": "stream",
     "text": [
      "[10 12 14 16 18 20 22 24 26 28 30 32 34 36 38 40 42 44 46 48 50]\n"
     ]
    }
   ],
   "source": [
    "E = np.arange(10,51, 2)\n",
    "print(E)"
   ]
  },
  {
   "cell_type": "markdown",
   "metadata": {
    "colab_type": "text",
    "id": "IXIiNeRL4DKW"
   },
   "source": [
    "Create a 3x3 matrix with values ranging from 0 to 8\n"
   ]
  },
  {
   "cell_type": "code",
   "execution_count": 6,
   "metadata": {
    "colab": {
     "base_uri": "https://localhost:8080/",
     "height": 68
    },
    "colab_type": "code",
    "id": "D-yR0wX3WjGS",
    "outputId": "408d94fb-18a4-4e3a-c445-17a6ef8d193e"
   },
   "outputs": [
    {
     "name": "stdout",
     "output_type": "stream",
     "text": [
      "[[0 1 2]\n",
      " [3 4 5]\n",
      " [6 7 8]]\n"
     ]
    }
   ],
   "source": [
    "F = np.arange(0,9)\n",
    "F = F.reshape(3,3)\n",
    "\n",
    "print(F)"
   ]
  },
  {
   "cell_type": "markdown",
   "metadata": {
    "colab_type": "text",
    "id": "NJKbKKAk38ez"
   },
   "source": [
    "Create a 3x3 identity matrix\n"
   ]
  },
  {
   "cell_type": "code",
   "execution_count": 7,
   "metadata": {
    "colab": {
     "base_uri": "https://localhost:8080/",
     "height": 68
    },
    "colab_type": "code",
    "id": "SJ82RKVIXS6k",
    "outputId": "1fa9ec7b-5615-4d4e-ddef-41f0c22721ea"
   },
   "outputs": [
    {
     "data": {
      "text/plain": [
       "array([[1., 0., 0.],\n",
       "       [0., 1., 0.],\n",
       "       [0., 0., 1.]])"
      ]
     },
     "execution_count": 7,
     "metadata": {},
     "output_type": "execute_result"
    }
   ],
   "source": [
    "G = np.eye(3)\n",
    "G"
   ]
  },
  {
   "cell_type": "markdown",
   "metadata": {
    "colab_type": "text",
    "id": "F1FsYPfJ4NGz"
   },
   "source": [
    "Use NumPy to generate a random number between 0 and 1\n"
   ]
  },
  {
   "cell_type": "code",
   "execution_count": 8,
   "metadata": {
    "colab": {
     "base_uri": "https://localhost:8080/",
     "height": 34
    },
    "colab_type": "code",
    "id": "_cLQ5r1OXTEE",
    "outputId": "909260af-198a-434f-8031-1d44ef452a99"
   },
   "outputs": [
    {
     "data": {
      "text/plain": [
       "array([[0.89605952]])"
      ]
     },
     "execution_count": 8,
     "metadata": {},
     "output_type": "execute_result"
    }
   ],
   "source": [
    "np.random.rand(1,1)"
   ]
  },
  {
   "cell_type": "markdown",
   "metadata": {
    "colab_type": "text",
    "id": "Ml57Eudy4OhS"
   },
   "source": [
    "Use NumPy to generate an array of 25 random numbers sampled from a standard normal distribution\n"
   ]
  },
  {
   "cell_type": "code",
   "execution_count": 9,
   "metadata": {
    "colab": {
     "base_uri": "https://localhost:8080/",
     "height": 102
    },
    "colab_type": "code",
    "id": "1pMr6jyLXTGU",
    "outputId": "df85c6dd-4c32-44a8-d48e-cffd66e57b39"
   },
   "outputs": [
    {
     "data": {
      "text/plain": [
       "array([[-1.26576065e+00, -7.27847335e-01,  5.22464976e-01,\n",
       "         1.16966001e-03, -4.39218374e-01],\n",
       "       [ 5.84044808e-01,  4.09579685e-01,  6.96341765e-01,\n",
       "         1.64860859e+00,  4.20648502e-01],\n",
       "       [-2.07047780e+00, -7.94693560e-01, -6.39643332e-01,\n",
       "        -1.43119062e-02, -7.32220641e-01],\n",
       "       [-6.52339162e-01, -2.70365197e-01, -3.84922845e-01,\n",
       "        -2.79626544e+00,  4.24524528e-02],\n",
       "       [-1.05070801e-01,  1.21722278e+00,  1.67578216e+00,\n",
       "         1.30547129e-01, -1.92222386e-01]])"
      ]
     },
     "execution_count": 9,
     "metadata": {},
     "output_type": "execute_result"
    }
   ],
   "source": [
    "np.random.randn(5,5)"
   ]
  },
  {
   "cell_type": "markdown",
   "metadata": {
    "colab_type": "text",
    "id": "XQ4kReQd4V8i"
   },
   "source": [
    "Create the following matrix:\n"
   ]
  },
  {
   "cell_type": "code",
   "execution_count": 10,
   "metadata": {
    "colab": {
     "base_uri": "https://localhost:8080/",
     "height": 187
    },
    "colab_type": "code",
    "id": "aDyycQt_YUUU",
    "outputId": "00f69155-d972-4935-b88b-df2d09ab31b0"
   },
   "outputs": [
    {
     "data": {
      "text/plain": [
       "array([[0.01, 0.02, 0.03, 0.04, 0.05, 0.06, 0.07, 0.08, 0.09, 0.1 ],\n",
       "       [0.11, 0.12, 0.13, 0.14, 0.15, 0.16, 0.17, 0.18, 0.19, 0.2 ],\n",
       "       [0.21, 0.22, 0.23, 0.24, 0.25, 0.26, 0.27, 0.28, 0.29, 0.3 ],\n",
       "       [0.31, 0.32, 0.33, 0.34, 0.35, 0.36, 0.37, 0.38, 0.39, 0.4 ],\n",
       "       [0.41, 0.42, 0.43, 0.44, 0.45, 0.46, 0.47, 0.48, 0.49, 0.5 ],\n",
       "       [0.51, 0.52, 0.53, 0.54, 0.55, 0.56, 0.57, 0.58, 0.59, 0.6 ],\n",
       "       [0.61, 0.62, 0.63, 0.64, 0.65, 0.66, 0.67, 0.68, 0.69, 0.7 ],\n",
       "       [0.71, 0.72, 0.73, 0.74, 0.75, 0.76, 0.77, 0.78, 0.79, 0.8 ],\n",
       "       [0.81, 0.82, 0.83, 0.84, 0.85, 0.86, 0.87, 0.88, 0.89, 0.9 ],\n",
       "       [0.91, 0.92, 0.93, 0.94, 0.95, 0.96, 0.97, 0.98, 0.99, 1.  ]])"
      ]
     },
     "execution_count": 10,
     "metadata": {},
     "output_type": "execute_result"
    }
   ],
   "source": [
    "np.arange(0.01,1.01,0.01).reshape(10,10)\n"
   ]
  },
  {
   "cell_type": "markdown",
   "metadata": {
    "colab_type": "text",
    "id": "niI_FYHU4Yv1"
   },
   "source": [
    "Create an array of 20 linearly spaced points between 0 and 1:\n"
   ]
  },
  {
   "cell_type": "code",
   "execution_count": 11,
   "metadata": {
    "colab": {
     "base_uri": "https://localhost:8080/",
     "height": 85
    },
    "colab_type": "code",
    "id": "Ex9V8MtVYMm1",
    "outputId": "ec128c26-0833-4e25-be83-2201d1269df4"
   },
   "outputs": [
    {
     "data": {
      "text/plain": [
       "array([0.        , 0.05263158, 0.10526316, 0.15789474, 0.21052632,\n",
       "       0.26315789, 0.31578947, 0.36842105, 0.42105263, 0.47368421,\n",
       "       0.52631579, 0.57894737, 0.63157895, 0.68421053, 0.73684211,\n",
       "       0.78947368, 0.84210526, 0.89473684, 0.94736842, 1.        ])"
      ]
     },
     "execution_count": 11,
     "metadata": {},
     "output_type": "execute_result"
    }
   ],
   "source": [
    "np.linspace(0.,1.,20)"
   ]
  },
  {
   "cell_type": "markdown",
   "metadata": {
    "colab_type": "text",
    "id": "oAc-E1qNZlmr"
   },
   "source": [
    "# Numpy Indexing and Selection\n"
   ]
  },
  {
   "cell_type": "markdown",
   "metadata": {
    "colab_type": "text",
    "id": "5me_Q6Cj4ae1"
   },
   "source": [
    "Now you will be given a few matrices, and be asked to replicate the resulting matrix outputs:\n",
    "\n"
   ]
  },
  {
   "cell_type": "code",
   "execution_count": 12,
   "metadata": {
    "colab": {},
    "colab_type": "code",
    "id": "7iFSZu6RYT18"
   },
   "outputs": [],
   "source": [
    "mat = np.arange(1,26).reshape(5,5)\n"
   ]
  },
  {
   "cell_type": "markdown",
   "metadata": {
    "colab_type": "text",
    "id": "mccQljXY4dNL"
   },
   "source": [
    "WRITE CODE HERE THAT REPRODUCES THE OUTPUT OF THE CELL BELOW BE CAREFUL NOT TO RUN THE CELL BELOW, OTHERWISE YOU WON’T BE ABLE TO SEE THE OUTPUT ANY MORE\n",
    "\n"
   ]
  },
  {
   "cell_type": "code",
   "execution_count": 13,
   "metadata": {
    "colab": {
     "base_uri": "https://localhost:8080/",
     "height": 68
    },
    "colab_type": "code",
    "id": "GkFE4vqkYT4V",
    "outputId": "37bad6a9-982a-4429-ddfc-1a2876666bd2"
   },
   "outputs": [
    {
     "name": "stdout",
     "output_type": "stream",
     "text": [
      "[[12 13 14 15]\n",
      " [17 18 19 20]\n",
      " [22 23 24 25]]\n"
     ]
    }
   ],
   "source": [
    "print(mat[2:5,1:5])"
   ]
  },
  {
   "cell_type": "code",
   "execution_count": 14,
   "metadata": {
    "colab": {
     "base_uri": "https://localhost:8080/",
     "height": 34
    },
    "colab_type": "code",
    "id": "ZXiklZPlYT6V",
    "outputId": "573fe605-547a-4341-b895-2f2fc68d68bf"
   },
   "outputs": [
    {
     "name": "stdout",
     "output_type": "stream",
     "text": [
      "[ 2  7 12]\n"
     ]
    }
   ],
   "source": [
    "print(mat[:3, 1])"
   ]
  },
  {
   "cell_type": "code",
   "execution_count": 15,
   "metadata": {
    "colab": {
     "base_uri": "https://localhost:8080/",
     "height": 34
    },
    "colab_type": "code",
    "id": "aoXQMyUtqIif",
    "outputId": "896e6aac-c24f-4912-a839-054b3959421d"
   },
   "outputs": [
    {
     "name": "stdout",
     "output_type": "stream",
     "text": [
      "20\n"
     ]
    }
   ],
   "source": [
    "print(mat[3,4])"
   ]
  },
  {
   "cell_type": "code",
   "execution_count": 16,
   "metadata": {
    "colab": {
     "base_uri": "https://localhost:8080/",
     "height": 34
    },
    "colab_type": "code",
    "id": "HyImWVMFqIny",
    "outputId": "751d048e-eacf-40d7-8661-36035daa1027"
   },
   "outputs": [
    {
     "name": "stdout",
     "output_type": "stream",
     "text": [
      "[21 22 23 24 25]\n"
     ]
    }
   ],
   "source": [
    "print(mat[4,:])"
   ]
  },
  {
   "cell_type": "code",
   "execution_count": 17,
   "metadata": {
    "colab": {
     "base_uri": "https://localhost:8080/",
     "height": 51
    },
    "colab_type": "code",
    "id": "BsRvMNjOqIsj",
    "outputId": "862e9a61-5857-41cd-852a-d9d2f3a4d792"
   },
   "outputs": [
    {
     "name": "stdout",
     "output_type": "stream",
     "text": [
      "[[16 17 18 19 20]\n",
      " [21 22 23 24 25]]\n"
     ]
    }
   ],
   "source": [
    "print(mat[3:5,:])"
   ]
  },
  {
   "cell_type": "markdown",
   "metadata": {
    "colab_type": "text",
    "id": "mxolITPX4f9P"
   },
   "source": [
    "Get the sum of all the values in mat\n"
   ]
  },
  {
   "cell_type": "code",
   "execution_count": 18,
   "metadata": {
    "colab": {
     "base_uri": "https://localhost:8080/",
     "height": 34
    },
    "colab_type": "code",
    "id": "je2uckvHqIxl",
    "outputId": "eb79ba9b-9597-44ff-a406-592f18d86f6f"
   },
   "outputs": [
    {
     "name": "stdout",
     "output_type": "stream",
     "text": [
      "325\n"
     ]
    }
   ],
   "source": [
    "sum_mat = mat.sum()\n",
    "print(sum_mat)"
   ]
  },
  {
   "cell_type": "markdown",
   "metadata": {
    "colab_type": "text",
    "id": "MASIllFF4hu_"
   },
   "source": [
    "Get the standard deviation of the values in mat\n"
   ]
  },
  {
   "cell_type": "code",
   "execution_count": 19,
   "metadata": {
    "colab": {
     "base_uri": "https://localhost:8080/",
     "height": 34
    },
    "colab_type": "code",
    "id": "rtkepJOmqJNf",
    "outputId": "4e3a562c-be02-42e7-c127-7139bc5b80bd"
   },
   "outputs": [
    {
     "name": "stdout",
     "output_type": "stream",
     "text": [
      "7.211102550927978\n"
     ]
    }
   ],
   "source": [
    "standard_dev_mat = mat.std()\n",
    "print(standard_dev_mat)"
   ]
  },
  {
   "cell_type": "markdown",
   "metadata": {
    "colab_type": "text",
    "id": "8m6p9k7p4kHG"
   },
   "source": [
    "Get the sum of all the columns in mat\n"
   ]
  },
  {
   "cell_type": "code",
   "execution_count": 20,
   "metadata": {
    "colab": {
     "base_uri": "https://localhost:8080/",
     "height": 34
    },
    "colab_type": "code",
    "id": "jfM06-k_qJP1",
    "outputId": "5d74ef8a-e264-4c71-d899-7cec1e3b86f6"
   },
   "outputs": [
    {
     "data": {
      "text/plain": [
       "array([55, 60, 65, 70, 75])"
      ]
     },
     "execution_count": 20,
     "metadata": {},
     "output_type": "execute_result"
    }
   ],
   "source": [
    "mat.sum(axis = 0)"
   ]
  },
  {
   "cell_type": "markdown",
   "metadata": {
    "colab_type": "text",
    "id": "pcIwlNoc4lbK"
   },
   "source": [
    "Find median values in all columns\n"
   ]
  },
  {
   "cell_type": "code",
   "execution_count": 21,
   "metadata": {
    "colab": {
     "base_uri": "https://localhost:8080/",
     "height": 34
    },
    "colab_type": "code",
    "id": "KnOUEMVzLzni",
    "outputId": "c61f5977-43c4-4811-dceb-893832eae84e"
   },
   "outputs": [
    {
     "name": "stdout",
     "output_type": "stream",
     "text": [
      "[11. 12. 13. 14. 15.]\n"
     ]
    }
   ],
   "source": [
    "b = np.median(mat, axis = 0)\n",
    "print(b)"
   ]
  },
  {
   "cell_type": "markdown",
   "metadata": {
    "colab_type": "text",
    "id": "nTd03vL44nYP"
   },
   "source": [
    "Find average values in all columns\n"
   ]
  },
  {
   "cell_type": "code",
   "execution_count": 22,
   "metadata": {
    "colab": {
     "base_uri": "https://localhost:8080/",
     "height": 34
    },
    "colab_type": "code",
    "id": "jNC8fp0ILzp4",
    "outputId": "546dfed0-0c7e-406c-bb3c-66af5616b478"
   },
   "outputs": [
    {
     "name": "stdout",
     "output_type": "stream",
     "text": [
      "[11. 12. 13. 14. 15.]\n"
     ]
    }
   ],
   "source": [
    "c = np.mean(mat, axis = 0)\n",
    "print(c)"
   ]
  },
  {
   "cell_type": "markdown",
   "metadata": {
    "colab_type": "text",
    "id": "ZHUZQO6I4od4"
   },
   "source": [
    "Find median values in all rows\n"
   ]
  },
  {
   "cell_type": "code",
   "execution_count": 23,
   "metadata": {
    "colab": {
     "base_uri": "https://localhost:8080/",
     "height": 34
    },
    "colab_type": "code",
    "id": "4g13h4aDLzux",
    "outputId": "d83be1e6-813f-4dcf-ca5a-48bb496368b0"
   },
   "outputs": [
    {
     "name": "stdout",
     "output_type": "stream",
     "text": [
      "[ 3.  8. 13. 18. 23.]\n"
     ]
    }
   ],
   "source": [
    "d = np.median(mat, axis = 1)\n",
    "print(d)"
   ]
  },
  {
   "cell_type": "markdown",
   "metadata": {
    "colab_type": "text",
    "id": "nMjyx4MK4pej"
   },
   "source": [
    "Find average values in all rows\n"
   ]
  },
  {
   "cell_type": "code",
   "execution_count": 24,
   "metadata": {
    "colab": {
     "base_uri": "https://localhost:8080/",
     "height": 34
    },
    "colab_type": "code",
    "id": "EfLn-LOgLzsI",
    "outputId": "100b6da3-060c-4a78-bf63-0fe4932ffc44"
   },
   "outputs": [
    {
     "name": "stdout",
     "output_type": "stream",
     "text": [
      "[ 3.  8. 13. 18. 23.]\n"
     ]
    }
   ],
   "source": [
    "e = np.mean(mat, axis = 1)\n",
    "print(e)"
   ]
  },
  {
   "cell_type": "markdown",
   "metadata": {
    "colab_type": "text",
    "id": "MYSdQpV7m73G"
   },
   "source": [
    "# Matplotlib exercise\n"
   ]
  },
  {
   "cell_type": "markdown",
   "metadata": {
    "colab_type": "text",
    "id": "4ehZrb9D4rQ3"
   },
   "source": [
    "Read the data attached in ISOD about the crimes in Los Angeles from 2010. And generate a histogram analyzing the number of crimes committed along the day. Show the hour of day distribution of crimes using two kinds of plots: histiogram and a scatter plot. (Caution! For scatter plot you will have to calculate number of crime occurrences in each hour.)\n",
    "\n"
   ]
  },
  {
   "cell_type": "code",
   "execution_count": 25,
   "metadata": {
    "colab": {
     "base_uri": "https://localhost:8080/",
     "height": 445
    },
    "colab_type": "code",
    "id": "WxpB_cTLqJSi",
    "outputId": "5ee463ed-a84a-4457-a238-3a94a9b00f32"
   },
   "outputs": [
    {
     "data": {
      "text/html": [
       "<div>\n",
       "<style scoped>\n",
       "    .dataframe tbody tr th:only-of-type {\n",
       "        vertical-align: middle;\n",
       "    }\n",
       "\n",
       "    .dataframe tbody tr th {\n",
       "        vertical-align: top;\n",
       "    }\n",
       "\n",
       "    .dataframe thead th {\n",
       "        text-align: right;\n",
       "    }\n",
       "</style>\n",
       "<table border=\"1\" class=\"dataframe\">\n",
       "  <thead>\n",
       "    <tr style=\"text-align: right;\">\n",
       "      <th></th>\n",
       "      <th>DR Number</th>\n",
       "      <th>Date Reported</th>\n",
       "      <th>Date Occurred</th>\n",
       "      <th>Time Occurred</th>\n",
       "      <th>Area ID</th>\n",
       "      <th>Area Name</th>\n",
       "      <th>Reporting District</th>\n",
       "      <th>Crime Code</th>\n",
       "      <th>Crime Code Description</th>\n",
       "      <th>MO Codes</th>\n",
       "      <th>...</th>\n",
       "      <th>Weapon Description</th>\n",
       "      <th>Status Code</th>\n",
       "      <th>Status Description</th>\n",
       "      <th>Crime Code 1</th>\n",
       "      <th>Crime Code 2</th>\n",
       "      <th>Crime Code 3</th>\n",
       "      <th>Crime Code 4</th>\n",
       "      <th>Address</th>\n",
       "      <th>Cross Street</th>\n",
       "      <th>Location</th>\n",
       "    </tr>\n",
       "  </thead>\n",
       "  <tbody>\n",
       "    <tr>\n",
       "      <th>0</th>\n",
       "      <td>1208575</td>\n",
       "      <td>03/14/2013</td>\n",
       "      <td>03/11/2013</td>\n",
       "      <td>1800</td>\n",
       "      <td>12</td>\n",
       "      <td>77th Street</td>\n",
       "      <td>1241</td>\n",
       "      <td>626</td>\n",
       "      <td>INTIMATE PARTNER - SIMPLE ASSAULT</td>\n",
       "      <td>0416 0446 1243 2000</td>\n",
       "      <td>...</td>\n",
       "      <td>STRONG-ARM (HANDS, FIST, FEET OR BODILY FORCE)</td>\n",
       "      <td>AO</td>\n",
       "      <td>Adult Other</td>\n",
       "      <td>626</td>\n",
       "      <td>NaN</td>\n",
       "      <td>NaN</td>\n",
       "      <td>NaN</td>\n",
       "      <td>6300    BRYNHURST                    AV</td>\n",
       "      <td>NaN</td>\n",
       "      <td>(33.9829, -118.3338)</td>\n",
       "    </tr>\n",
       "    <tr>\n",
       "      <th>1</th>\n",
       "      <td>102005556</td>\n",
       "      <td>01/25/2010</td>\n",
       "      <td>01/22/2010</td>\n",
       "      <td>2300</td>\n",
       "      <td>20</td>\n",
       "      <td>Olympic</td>\n",
       "      <td>2071</td>\n",
       "      <td>510</td>\n",
       "      <td>VEHICLE - STOLEN</td>\n",
       "      <td>NaN</td>\n",
       "      <td>...</td>\n",
       "      <td>NaN</td>\n",
       "      <td>IC</td>\n",
       "      <td>Invest Cont</td>\n",
       "      <td>510</td>\n",
       "      <td>NaN</td>\n",
       "      <td>NaN</td>\n",
       "      <td>NaN</td>\n",
       "      <td>VAN NESS</td>\n",
       "      <td>15TH</td>\n",
       "      <td>(34.0454, -118.3157)</td>\n",
       "    </tr>\n",
       "    <tr>\n",
       "      <th>2</th>\n",
       "      <td>418</td>\n",
       "      <td>03/19/2013</td>\n",
       "      <td>03/18/2013</td>\n",
       "      <td>2030</td>\n",
       "      <td>18</td>\n",
       "      <td>Southeast</td>\n",
       "      <td>1823</td>\n",
       "      <td>510</td>\n",
       "      <td>VEHICLE - STOLEN</td>\n",
       "      <td>NaN</td>\n",
       "      <td>...</td>\n",
       "      <td>NaN</td>\n",
       "      <td>IC</td>\n",
       "      <td>Invest Cont</td>\n",
       "      <td>510</td>\n",
       "      <td>NaN</td>\n",
       "      <td>NaN</td>\n",
       "      <td>NaN</td>\n",
       "      <td>200 E  104TH                        ST</td>\n",
       "      <td>NaN</td>\n",
       "      <td>(33.942, -118.2717)</td>\n",
       "    </tr>\n",
       "    <tr>\n",
       "      <th>3</th>\n",
       "      <td>101822289</td>\n",
       "      <td>11/11/2010</td>\n",
       "      <td>11/10/2010</td>\n",
       "      <td>1800</td>\n",
       "      <td>18</td>\n",
       "      <td>Southeast</td>\n",
       "      <td>1803</td>\n",
       "      <td>510</td>\n",
       "      <td>VEHICLE - STOLEN</td>\n",
       "      <td>NaN</td>\n",
       "      <td>...</td>\n",
       "      <td>NaN</td>\n",
       "      <td>IC</td>\n",
       "      <td>Invest Cont</td>\n",
       "      <td>510</td>\n",
       "      <td>NaN</td>\n",
       "      <td>NaN</td>\n",
       "      <td>NaN</td>\n",
       "      <td>88TH</td>\n",
       "      <td>WALL</td>\n",
       "      <td>(33.9572, -118.2717)</td>\n",
       "    </tr>\n",
       "    <tr>\n",
       "      <th>4</th>\n",
       "      <td>42104479</td>\n",
       "      <td>01/11/2014</td>\n",
       "      <td>01/04/2014</td>\n",
       "      <td>2300</td>\n",
       "      <td>21</td>\n",
       "      <td>Topanga</td>\n",
       "      <td>2133</td>\n",
       "      <td>745</td>\n",
       "      <td>VANDALISM - MISDEAMEANOR ($399 OR UNDER)</td>\n",
       "      <td>0329</td>\n",
       "      <td>...</td>\n",
       "      <td>NaN</td>\n",
       "      <td>IC</td>\n",
       "      <td>Invest Cont</td>\n",
       "      <td>745</td>\n",
       "      <td>NaN</td>\n",
       "      <td>NaN</td>\n",
       "      <td>NaN</td>\n",
       "      <td>7200    CIRRUS                       WY</td>\n",
       "      <td>NaN</td>\n",
       "      <td>(34.2009, -118.6369)</td>\n",
       "    </tr>\n",
       "  </tbody>\n",
       "</table>\n",
       "<p>5 rows × 26 columns</p>\n",
       "</div>"
      ],
      "text/plain": [
       "   DR Number Date Reported Date Occurred  Time Occurred  Area ID    Area Name  \\\n",
       "0    1208575    03/14/2013    03/11/2013           1800       12  77th Street   \n",
       "1  102005556    01/25/2010    01/22/2010           2300       20      Olympic   \n",
       "2        418    03/19/2013    03/18/2013           2030       18    Southeast   \n",
       "3  101822289    11/11/2010    11/10/2010           1800       18    Southeast   \n",
       "4   42104479    01/11/2014    01/04/2014           2300       21      Topanga   \n",
       "\n",
       "   Reporting District  Crime Code                    Crime Code Description  \\\n",
       "0                1241         626         INTIMATE PARTNER - SIMPLE ASSAULT   \n",
       "1                2071         510                          VEHICLE - STOLEN   \n",
       "2                1823         510                          VEHICLE - STOLEN   \n",
       "3                1803         510                          VEHICLE - STOLEN   \n",
       "4                2133         745  VANDALISM - MISDEAMEANOR ($399 OR UNDER)   \n",
       "\n",
       "              MO Codes          ...           \\\n",
       "0  0416 0446 1243 2000          ...            \n",
       "1                  NaN          ...            \n",
       "2                  NaN          ...            \n",
       "3                  NaN          ...            \n",
       "4                 0329          ...            \n",
       "\n",
       "                               Weapon Description Status Code  \\\n",
       "0  STRONG-ARM (HANDS, FIST, FEET OR BODILY FORCE)          AO   \n",
       "1                                             NaN          IC   \n",
       "2                                             NaN          IC   \n",
       "3                                             NaN          IC   \n",
       "4                                             NaN          IC   \n",
       "\n",
       "  Status Description  Crime Code 1 Crime Code 2  Crime Code 3 Crime Code 4  \\\n",
       "0        Adult Other           626          NaN           NaN          NaN   \n",
       "1        Invest Cont           510          NaN           NaN          NaN   \n",
       "2        Invest Cont           510          NaN           NaN          NaN   \n",
       "3        Invest Cont           510          NaN           NaN          NaN   \n",
       "4        Invest Cont           745          NaN           NaN          NaN   \n",
       "\n",
       "                                   Address Cross Street             Location   \n",
       "0  6300    BRYNHURST                    AV          NaN  (33.9829, -118.3338)  \n",
       "1                                 VAN NESS         15TH  (34.0454, -118.3157)  \n",
       "2   200 E  104TH                        ST          NaN   (33.942, -118.2717)  \n",
       "3                                     88TH         WALL  (33.9572, -118.2717)  \n",
       "4  7200    CIRRUS                       WY          NaN  (34.2009, -118.6369)  \n",
       "\n",
       "[5 rows x 26 columns]"
      ]
     },
     "execution_count": 25,
     "metadata": {},
     "output_type": "execute_result"
    }
   ],
   "source": [
    "import pandas as pd\n",
    "\n",
    "dataset = pd.read_csv('Crime_Data_from_2010_small.csv')\n",
    "dataset.head()\n"
   ]
  },
  {
   "cell_type": "markdown",
   "metadata": {
    "colab_type": "text",
    "id": "Ocujaj3ZmEJ6"
   },
   "source": [
    "## Implement a backward substitution and find a solution\n"
   ]
  },
  {
   "cell_type": "code",
   "execution_count": 28,
   "metadata": {
    "colab": {
     "base_uri": "https://localhost:8080/",
     "height": 677
    },
    "colab_type": "code",
    "id": "ETnew9r_I5h1",
    "outputId": "a163b22d-3842-4757-a0d8-18c3715c30c2"
   },
   "outputs": [
    {
     "data": {
      "image/png": "[encoded data removed]",
      "text/plain": [
       "<Figure size 576x396 with 1 Axes>"
      ]
     },
     "metadata": {},
     "output_type": "display_data"
    },
    {
     "data": {
      "image/png": "[encoded data removed]",
      "text/plain": [
       "<Figure size 576x396 with 1 Axes>"
      ]
     },
     "metadata": {},
     "output_type": "display_data"
    }
   ],
   "source": [
    "import csv\n",
    "import matplotlib.pyplot as plt\n",
    " \n",
    " \n",
    "with open('Crime_Data_from_2010_small.csv') as f:\n",
    "  reader = csv.reader(f, delimiter=',')\n",
    "  for row in reader:\n",
    "    occurences_hours = [row[3] for row in reader][1:]\n",
    "    occurences_hours = [int(t) // 100 for t in occurences_hours]\n",
    " \n",
    "plt.style.use('seaborn')\n",
    "fig, ax = plt.subplots()\n",
    "ax.hist(occurences_hours, rwidth=0.9, bins=12)\n",
    "ax.set_xticks(range(1, 24, 2))\n",
    " \n",
    "plt.show()\n",
    " \n",
    " \n",
    "import collections\n",
    " \n",
    " \n",
    "occurences_hours = collections.Counter(occurences_hours).items()\n",
    "x, y = list(map(lambda a: a[0], occurences_hours)), list(map(lambda a: a[1], occurences_hours))\n",
    "fig, ax = plt.subplots()\n",
    "ax.scatter(x, y)\n",
    "ax.annotate(f'The maximum value: {max(y)}', xytext=(3,160), xy=(19, 171),\n",
    "            arrowprops=dict(arrowstyle=\"->\",lw=2))\n",
    " \n",
    "plt.show()"
   ]
  },
  {
   "cell_type": "code",
   "execution_count": 27,
   "metadata": {
    "colab": {
     "base_uri": "https://localhost:8080/",
     "height": 323
    },
    "colab_type": "code",
    "id": "hJc3cO9imKNg",
    "outputId": "3314a6b5-340a-41d2-ad39-a2d5a4668fef"
   },
   "outputs": [
    {
     "name": "stdout",
     "output_type": "stream",
     "text": [
      "A = [[ 1.  2.  3.  4.]\n",
      " [ 5.  6. 88. -3.]\n",
      " [ 9. 10. 11. -3.]\n",
      " [13. 14. 15. 16.]]\n",
      "Original x = [1. 1. 1. 1.]\n",
      "Right hand side for testing: b = [10. 96. 27. 58.]\n",
      "Check if A was unchanged \n",
      "Eliminated augmented matrix:\n",
      " [[   1.     2.     3.     4.    10. ]\n",
      " [   0.    -4.    73.   -23.    46. ]\n",
      " [   0.     0.  -162.     7.  -155. ]\n",
      " [   0.     0.     0.    22.5   22.5]]\n",
      "Eliminated augmented matrix A part: [[   1.     2.     3.     4. ]\n",
      " [   0.    -4.    73.   -23. ]\n",
      " [   0.     0.  -162.     7. ]\n",
      " [   0.     0.     0.    22.5]]\n",
      "Eliminated augmented matrix b part: [  10.    46.  -155.    22.5]\n",
      "Solution: [1.0, 1.0, 1.0, 1.0]\n"
     ]
    }
   ],
   "source": [
    "\n",
    "import numpy as np\n",
    " \n",
    "def gaussian(A, b):\n",
    "  A_aug = np.column_stack((A, b))\n",
    "  for i in range(len(A_aug) - 1):\n",
    "    row = A_aug[i]\n",
    "    sub = [r - row * (r[i] / row[i]) for r in A_aug[i+1:]]\n",
    "    A_aug = np.concatenate((A_aug[:i + 1], sub))\n",
    "  return A_aug\n",
    " \n",
    "def back(A, b):\n",
    "  xs = []\n",
    "  for a in A[::-1]:\n",
    "    a, bl, b = a[::-1], b[-1], b[:-1]\n",
    " \n",
    "    r = bl - sum(c * x for c, x in zip(a, xs))\n",
    "    xs.append(r / a[len(xs)])\n",
    " \n",
    "  return xs\n",
    " \n",
    " \n",
    "A = np.arange(1, 17, dtype=np.float64).reshape(4,4)\n",
    "A[1,2] = 88\n",
    "A[1,3] = -3\n",
    "A[2,3] = -3\n",
    "print(f'A = {A}')\n",
    " \n",
    "x = np.ones(A.shape[0])\n",
    "print(f'Original x = {x}')\n",
    "b = A  @ x.T\n",
    "print(f'Right hand side for testing: b = {b}')\n",
    " \n",
    " \n",
    "Ae = gaussian(A, b)\n",
    "print(f'Check if A was unchanged ')\n",
    "print(f'Eliminated augmented matrix:\\n {Ae}')\n",
    "print(f'Eliminated augmented matrix A part: {Ae[:,:-1]}')\n",
    "print(f'Eliminated augmented matrix b part: {Ae[:,Ae.shape[1]-1]}')\n",
    " \n",
    "# Find solution\n",
    "x = back(Ae[:,:-1], Ae[:,Ae.shape[1]-1])\n",
    "print(f'Solution: {x}')"
   ]
  }
 ],
 "metadata": {
  "colab": {
   "collapsed_sections": [],
   "name": "Excercise_4_solutions.ipynb",
   "provenance": [],
   "toc_visible": true,
   "version": "0.3.2"
  },
  "kernelspec": {
   "display_name": "Python 3",
   "language": "python",
   "name": "python3"
  },
  "language_info": {
   "codemirror_mode": {
    "name": "ipython",
    "version": 3
   },
   "file_extension": ".py",
   "mimetype": "text/x-python",
   "name": "python",
   "nbconvert_exporter": "python",
   "pygments_lexer": "ipython3",
   "version": "3.7.1"
  }
 },
 "nbformat": 4,
 "nbformat_minor": 1
}
